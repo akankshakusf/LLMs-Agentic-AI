{
 "cells": [
  {
   "cell_type": "markdown",
   "id": "16c5bb79-a9dd-48b4-87ba-c09716be8d6b",
   "metadata": {
    "editable": true,
    "slideshow": {
     "slide_type": ""
    },
    "tags": []
   },
   "source": [
    "# Agents that can code\n"
   ]
  },
  {
   "cell_type": "code",
   "execution_count": null,
   "id": "fbdf9fc8",
   "metadata": {},
   "outputs": [],
   "source": [
    "from dotenv import load_dotenv\n",
    "import autogen\n",
    "\n",
    "load_dotenv(override=True)\n",
    "api_key = os.getenv('OPENAI_API_KEY')\n",
    "\n",
    "#llm configuration\n",
    "llm_config = {\n",
    "    \"model\":\"gpt-4o-mini\",\n",
    "    \"api_key\":api_key\n",
    "}"
   ]
  },
  {
   "cell_type": "code",
   "execution_count": null,
   "id": "dbab39a1-c56a-4ab8-a7ee-132e046cbb36",
   "metadata": {},
   "outputs": [],
   "source": [
    "from autogen.code_utils import create_virtual_env\n",
    "from autogen.coding import CodeBlock, LocalCommandLineCodeExecutor\n",
    "\n",
    "venv_dir = \".env_llm\"\n",
    "venv_context = create_virtual_env(venv_dir)\n",
    "\n",
    "executor = LocalCommandLineCodeExecutor(\n",
    "    virtual_env_context=venv_context,\n",
    "    timeout=200,\n",
    "    work_dir=\"coding\",\n",
    ")\n",
    "print(\n",
    "    executor.execute_code_blocks(code_blocks=[CodeBlock(language=\"python\", code=\"import sys; print(sys.executable)\")])\n",
    ")"
   ]
  },
  {
   "cell_type": "markdown",
   "id": "7c31b1c8-b84c-40c8-92e8-3f7ad82a9036",
   "metadata": {},
   "source": [
    "## Code executor agent\n",
    "\n",
    "1. A **code_writer_agent**: this agent is engineer, it will rely on chatGPT to generate python code (other languages are currently not supported by autogen) to accomplish the requested task.\n",
    "This agent is not a `ConverseableAgent`, it is one of its subcategories, the `AssistantAgent`. The `AssistantAgent` is designed to write code."
   ]
  },
  {
   "cell_type": "code",
   "execution_count": null,
   "id": "b81f2d8a-411a-4612-94bc-1034745c5e4a",
   "metadata": {},
   "outputs": [],
   "source": [
    "from autogen import AssistantAgent\n",
    "\n",
    "# Agent that writes code\n",
    "code_writer_agent = AssistantAgent(\n",
    "    name=\"code_writer_agent\",\n",
    "    llm_config=llm_config,\n",
    "    code_execution_config=False,\n",
    "    human_input_mode=\"NEVER\",\n",
    ")"
   ]
  },
  {
   "cell_type": "code",
   "execution_count": null,
   "id": "5dc3e5dd-2822-4a05-a79d-24ed64615ec3",
   "metadata": {},
   "outputs": [],
   "source": [
    "code_writer_agent_system_message = code_writer_agent.system_message\n",
    "print(code_writer_agent_system_message)"
   ]
  },
  {
   "cell_type": "code",
   "execution_count": null,
   "id": "07f014ce-284c-46f3-a2e6-9246c542bd9f",
   "metadata": {},
   "outputs": [],
   "source": [
    "from autogen import ConversableAgent\n",
    "\n",
    "# Code executor agent\n",
    "code_executor_agent = ConversableAgent(\n",
    "    name=\"code_executor_agent\",\n",
    "    llm_config=False,\n",
    "    code_execution_config={\"executor\": executor},\n",
    "    human_input_mode=\"ALWAYS\",\n",
    "    default_auto_reply=\n",
    "    \"Please continue. If everything is done, reply 'TERMINATE'.\",\n",
    ")"
   ]
  },
  {
   "cell_type": "markdown",
   "id": "7b4300a0-0f02-4cfe-b573-c8143cadf8f4",
   "metadata": {
    "editable": true,
    "slideshow": {
     "slide_type": ""
    },
    "tags": []
   },
   "source": [
    "## Coding task\n"
   ]
  },
  {
   "cell_type": "code",
   "execution_count": null,
   "id": "a74923fa-8793-496b-85cf-6b98e11d8a40",
   "metadata": {},
   "outputs": [],
   "source": [
    "import datetime\n",
    "\n",
    "today = datetime.datetime.now().date()\n",
    "\n",
    "message = f\"Today is {today}. \"\\\n",
    "\"Create a plot showing the normalized price of NVDA and BTC-USD for the last 4 years \"\\\n",
    "\"with their 50 weeks moving average. \"\\\n",
    "\"Make sure the code is in a markdown code block, save the figure\"\\\n",
    "\" to a file asset_analysis.png and show it. Provide all the code necessary in a single python bloc. \"\\\n",
    "\"Re-provide the code block that needs to be executed with each of your messages. \"\\\n",
    "\"If python packages are necessary to execute the code, provide a markdown \"\\\n",
    "\"sh block with only the command necessary to install them and no comments.\""
   ]
  },
  {
   "cell_type": "code",
   "execution_count": null,
   "id": "baf07c14-81f3-4da0-898d-b321c17e7239",
   "metadata": {},
   "outputs": [],
   "source": [
    "chat_result = code_executor_agent.initiate_chat(\n",
    "    code_writer_agent,\n",
    "    message=message\n",
    ")"
   ]
  },
  {
   "cell_type": "markdown",
   "id": "7994e139-a4dc-40e4-bbed-ca1cfcb7e8a8",
   "metadata": {},
   "source": [
    "The code will now execute.\n"
   ]
  },
  {
   "cell_type": "markdown",
   "id": "91370706",
   "metadata": {},
   "source": []
  }
 ],
 "metadata": {
  "kernelspec": {
   "display_name": "Python 3",
   "language": "python",
   "name": "python3"
  },
  "language_info": {
   "codemirror_mode": {
    "name": "ipython",
    "version": 3
   },
   "file_extension": ".py",
   "mimetype": "text/x-python",
   "name": "python",
   "nbconvert_exporter": "python",
   "pygments_lexer": "ipython3",
   "version": "3.12.0"
  }
 },
 "nbformat": 4,
 "nbformat_minor": 5
}
