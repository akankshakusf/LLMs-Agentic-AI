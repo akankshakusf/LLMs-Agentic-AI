{
 "cells": [
  {
   "cell_type": "markdown",
   "id": "c22dc646",
   "metadata": {},
   "source": [
    "Implementing  Sequential Agents"
   ]
  },
  {
   "cell_type": "markdown",
   "id": "7d92ad23",
   "metadata": {},
   "source": [
    "# Onboarding chats"
   ]
  },
  {
   "cell_type": "markdown",
   "id": "9be9d8b5",
   "metadata": {},
   "source": [
    "Use Case: In this project i will set up agents that can be used to onboard users into a live chat system like the one you can find on an online app like your banking website or your phone provider website. I will set up an agents to gather specifc information about a user that needs help, and then pass that information to human that will directly have a clear understanding of who requires help, where they're from and what their problem is, so that the human can immediately act on this information and help the user.\n",
    "\n",
    "To do so,I am  going to create 3 agents:\n",
    "1. An **Onboarding Personal Information Agent**: this agent's goal is to get the name and location of the customer.\n",
    "2. An **Onboarding Issue Agent**: this agent's goal is to determine what the issue of the customer is.\n",
    "3. A  **Customer Engagement Agent**: this agent will interact with the customer until a human agent can start interacting with the customer."
   ]
  },
  {
   "cell_type": "code",
   "execution_count": 2,
   "id": "e566ddd1",
   "metadata": {},
   "outputs": [],
   "source": [
    "import os \n",
    "from dotenv import load_dotenv\n",
    "from autogen import ConversableAgent\n",
    "from autogen import initiate_chats\n",
    "\n",
    "load_dotenv(override=True)\n",
    "api_key = os.getenv('OPENAI_API_KEY')"
   ]
  },
  {
   "cell_type": "code",
   "execution_count": 3,
   "id": "50c8bc20",
   "metadata": {},
   "outputs": [],
   "source": [
    "#llm configuration\n",
    "llm_config = {\n",
    "    \"model\":\"gpt-4o-mini\",\n",
    "    \"api_key\":api_key\n",
    "}"
   ]
  },
  {
   "cell_type": "markdown",
   "id": "ec6bf9df",
   "metadata": {},
   "source": [
    "## Agents definition"
   ]
  },
  {
   "cell_type": "markdown",
   "id": "3939ec53",
   "metadata": {},
   "source": [
    "- Onboarding Personal Information Agent 1 : Goal to get customer's name and location "
   ]
  },
  {
   "cell_type": "code",
   "execution_count": 4,
   "id": "b31378c3",
   "metadata": {},
   "outputs": [],
   "source": [
    "onboarding_personal_information_agent = ConversableAgent(\n",
    "    name=\"Onboarding_Personal_Information_Agent\",\n",
    "    system_message='''You are a helpful customer onboarding agent,\n",
    "    you work for a phone provider called ACME.\n",
    "    Your job is to gather the customer's name and location.\n",
    "    Do not ask for any other information, only ask about the customer's name and location.\n",
    "    After the customer gives you their name and location, repeat them \n",
    "    and thank the user, and ask the user to answer with TERMINATE to move on to describing their issue.\n",
    "    ''',\n",
    "    llm_config=llm_config,\n",
    "    human_input_mode=\"NEVER\",\n",
    "    is_termination_msg=lambda msg: \"terminate\" in msg.get(\"content\").lower()\n",
    ")"
   ]
  },
  {
   "cell_type": "markdown",
   "id": "6386b099",
   "metadata": {},
   "source": [
    "- Onboarding Issue Agent 2 : Goal to get customer product use info and problem facing "
   ]
  },
  {
   "cell_type": "code",
   "execution_count": 5,
   "id": "6c2b0129",
   "metadata": {},
   "outputs": [],
   "source": [
    "onboarding_issue_agent = ConversableAgent(\n",
    "    name=\"Onboarding_Issue_Agent\",\n",
    "    system_message='''You are a helpful customer onboarding agent,\n",
    "    you work for a phone provider called ACME,\n",
    "    you are here to help new customers get started with our product.\n",
    "    Your job is to gather the product the customer use and the issue they currently \n",
    "    have with the product,\n",
    "    Do not ask for other information.\n",
    "    After the customer describes their issue, repeat it and add\n",
    "    \"Please answer with 'TERMINATE' if I have correctly understood your issue.\" ''',\n",
    "    llm_config=llm_config,\n",
    "    human_input_mode=\"NEVER\",\n",
    "    is_termination_msg=lambda msg: \"terminate\" in msg.get(\"content\").lower()\n",
    ")"
   ]
  },
  {
   "cell_type": "markdown",
   "id": "b273ad1b",
   "metadata": {},
   "source": [
    "- Customer Engagement Agent 3: goal to keep customer entertained"
   ]
  },
  {
   "cell_type": "code",
   "execution_count": 6,
   "id": "3f514a4e",
   "metadata": {},
   "outputs": [],
   "source": [
    "customer_engagement_agent = ConversableAgent(\n",
    "    name=\"Customer_Engagement_Agent\",\n",
    "    system_message='''You are a helpful customer service agent.\n",
    "    Your job is to gather customer's preferences on news topics.\n",
    "    You are here to provide fun and useful information to the customer based on the user's\n",
    "    personal information and topic preferences.\n",
    "    This could include fun facts, jokes, or interesting stories.\n",
    "    Make sure to make it engaging and fun!\n",
    "    Return 'TERMINATE' when you are done.''',\n",
    "    llm_config=llm_config,\n",
    "    human_input_mode=\"NEVER\",\n",
    "    is_termination_msg=lambda msg: \"terminate\" in msg.get(\"content\").lower(),\n",
    ")"
   ]
  },
  {
   "cell_type": "markdown",
   "id": "8f200b60",
   "metadata": {},
   "source": [
    "- Adding myself as a customer : Goal talk about my issue with the product"
   ]
  },
  {
   "cell_type": "code",
   "execution_count": 7,
   "id": "894d8874",
   "metadata": {},
   "outputs": [],
   "source": [
    "customer_proxy_agent = ConversableAgent(\n",
    "    name=\"customer_proxy_agent\",\n",
    "    llm_config=False,\n",
    "    code_execution_config=False,\n",
    "    human_input_mode=\"ALWAYS\",\n",
    ")"
   ]
  },
  {
   "cell_type": "markdown",
   "id": "9327c2e7",
   "metadata": {},
   "source": [
    "## Chat orchestration"
   ]
  },
  {
   "cell_type": "markdown",
   "id": "d2184666",
   "metadata": {},
   "source": [
    "- Here there will be 3 chats that will take place in one loop. Agent1:User, Agent2:USer, Agent3:User. So will capture that inform a of a list."
   ]
  },
  {
   "cell_type": "markdown",
   "id": "1ff0d685",
   "metadata": {},
   "source": [
    "### 1. Onboarding Agent with Customer"
   ]
  },
  {
   "cell_type": "code",
   "execution_count": 9,
   "id": "a3cb6572",
   "metadata": {},
   "outputs": [],
   "source": [
    "chats = []  # empty list to hold all conversations"
   ]
  },
  {
   "cell_type": "markdown",
   "id": "fcd7f00a",
   "metadata": {},
   "source": [
    "- the first conversation that takes place will be sent to the next agent and so that they have context about previous conversation. same way agent 2 and user chat will be sent to next agent.and so on so we have data in the form of dict,"
   ]
  },
  {
   "cell_type": "code",
   "execution_count": 10,
   "id": "38a3989f",
   "metadata": {},
   "outputs": [],
   "source": [
    "chats.append(\n",
    "    {\n",
    "        \"sender\": onboarding_personal_information_agent,\n",
    "        \"recipient\": customer_proxy_agent,\n",
    "        \"message\": \n",
    "            \"Hello, I'm here to help you solve any issue you have with our products. \"\n",
    "            \"Could you tell me your name?\",  #starter msg\n",
    "        \"summary_method\": \"reflection_with_llm\", #analyse the summary dict\n",
    "        \"summary_args\": {\n",
    "        \"summary_prompt\" : \"Return the customer information \"\n",
    "                             \"into a JSON object only: \"\n",
    "                             \"{'name': '', 'location': ''}\",\n",
    "        },\n",
    "        \"clear_history\" : True\n",
    "    }\n",
    ")"
   ]
  },
  {
   "cell_type": "markdown",
   "id": "b523cc9a",
   "metadata": {},
   "source": [
    "### 2. Issue Agent with Customer"
   ]
  },
  {
   "cell_type": "code",
   "execution_count": 11,
   "id": "191bbfdf",
   "metadata": {},
   "outputs": [
    {
     "data": {
      "text/plain": [
       "[{'sender': <autogen.agentchat.conversable_agent.ConversableAgent at 0x214a56c9af0>,\n",
       "  'recipient': <autogen.agentchat.conversable_agent.ConversableAgent at 0x214a43fef30>,\n",
       "  'message': \"Hello, I'm here to help you solve any issue you have with our products. Could you tell me your name?\",\n",
       "  'summary_method': 'reflection_with_llm',\n",
       "  'summary_args': {'summary_prompt': \"Return the customer information into a JSON object only: {'name': '', 'location': ''}\"},\n",
       "  'clear_history': True},\n",
       " {'sender': <autogen.agentchat.conversable_agent.ConversableAgent at 0x214a43fef30>,\n",
       "  'recipient': <autogen.agentchat.conversable_agent.ConversableAgent at 0x214a6c37b00>,\n",
       "  'message': \"While we're waiting for a human agent to take over and help you solve your issue, can you tell me more about how you use our products or some topics interesting for you?\",\n",
       "  'max_turns': 2,\n",
       "  'summary_method': 'reflection_with_llm'}]"
      ]
     },
     "execution_count": 11,
     "metadata": {},
     "output_type": "execute_result"
    }
   ],
   "source": [
    "chats.append(\n",
    "        {\n",
    "        \"sender\": customer_proxy_agent,\n",
    "        \"recipient\": customer_engagement_agent,\n",
    "        \"message\": \"While we're waiting for a human agent to take over and help you solve \"\n",
    "        \"your issue, can you tell me more about how you use our products or some \"\n",
    "        \"topics interesting for you?\", #starter msg\n",
    "        \"max_turns\": 2,\n",
    "        \"summary_method\": \"reflection_with_llm\",\n",
    "    }\n",
    ")\n",
    "chats"
   ]
  },
  {
   "cell_type": "markdown",
   "id": "d8b218b6",
   "metadata": {},
   "source": [
    "### 3. Customer Engagement Agent with Customer"
   ]
  },
  {
   "cell_type": "code",
   "execution_count": 12,
   "id": "5d2ff105",
   "metadata": {},
   "outputs": [
    {
     "data": {
      "text/plain": [
       "[{'sender': <autogen.agentchat.conversable_agent.ConversableAgent at 0x214a56c9af0>,\n",
       "  'recipient': <autogen.agentchat.conversable_agent.ConversableAgent at 0x214a43fef30>,\n",
       "  'message': \"Hello, I'm here to help you solve any issue you have with our products. Could you tell me your name?\",\n",
       "  'summary_method': 'reflection_with_llm',\n",
       "  'summary_args': {'summary_prompt': \"Return the customer information into a JSON object only: {'name': '', 'location': ''}\"},\n",
       "  'clear_history': True},\n",
       " {'sender': <autogen.agentchat.conversable_agent.ConversableAgent at 0x214a43fef30>,\n",
       "  'recipient': <autogen.agentchat.conversable_agent.ConversableAgent at 0x214a6c37b00>,\n",
       "  'message': \"While we're waiting for a human agent to take over and help you solve your issue, can you tell me more about how you use our products or some topics interesting for you?\",\n",
       "  'max_turns': 2,\n",
       "  'summary_method': 'reflection_with_llm'},\n",
       " {'sender': <autogen.agentchat.conversable_agent.ConversableAgent at 0x214a43fef30>,\n",
       "  'recipient': <autogen.agentchat.conversable_agent.ConversableAgent at 0x214a6c37b00>,\n",
       "  'message': \"While we're waiting for a human agent to take over and help you solve your issue, can you tell me more about how you use our products or some topics interesting for you?\",\n",
       "  'max_turns': 2,\n",
       "  'summary_method': 'reflection_with_llm'}]"
      ]
     },
     "execution_count": 12,
     "metadata": {},
     "output_type": "execute_result"
    }
   ],
   "source": [
    "chats.append(\n",
    "    {\n",
    "        \"sender\": customer_proxy_agent,\n",
    "        \"recipient\":customer_engagement_agent,\n",
    "        \"message\":\n",
    "                \"While we're waiting for a human agent to take over and help you solve \"\n",
    "        \"your issue, can you tell me more about how you use our products or some \"\n",
    "        \"topics interesting for you?\", #starter msg\n",
    "        \"max_turns\": 2,\n",
    "        \"summary_method\": \"reflection_with_llm\",\n",
    "    }\n",
    ")\n",
    "chats"
   ]
  },
  {
   "cell_type": "markdown",
   "id": "97473702",
   "metadata": {},
   "source": [
    "## Initiate the sequential chat"
   ]
  },
  {
   "cell_type": "code",
   "execution_count": 13,
   "id": "499beaf5",
   "metadata": {},
   "outputs": [
    {
     "name": "stdout",
     "output_type": "stream",
     "text": [
      "\u001b[34m\n",
      "********************************************************************************\u001b[0m\n",
      "\u001b[34mStarting a new chat....\u001b[0m\n",
      "\u001b[34m\n",
      "********************************************************************************\u001b[0m\n",
      "\u001b[33mOnboarding_Personal_Information_Agent\u001b[0m (to customer_proxy_agent):\n",
      "\n",
      "Hello, I'm here to help you solve any issue you have with our products. Could you tell me your name?\n",
      "\n",
      "--------------------------------------------------------------------------------\n"
     ]
    },
    {
     "name": "stderr",
     "output_type": "stream",
     "text": [
      "c:\\code\\Projects\\Agentic_AI_AutoGen\\venv\\Lib\\site-packages\\autogen\\agentchat\\chat.py:57: UserWarning: Repetitive recipients detected: The chat history will be cleared by default if a recipient appears more than once. To retain the chat history, please set 'clear_history=False' in the configuration of the repeating agent.\n",
      "  warnings.warn(\n"
     ]
    },
    {
     "name": "stdout",
     "output_type": "stream",
     "text": [
      "\u001b[31m\n",
      ">>>>>>>> NO HUMAN INPUT RECEIVED.\u001b[0m\n",
      "\u001b[31m\n",
      ">>>>>>>> USING AUTO REPLY...\u001b[0m\n",
      "\u001b[33mcustomer_proxy_agent\u001b[0m (to Onboarding_Personal_Information_Agent):\n",
      "\n",
      "\n",
      "\n",
      "--------------------------------------------------------------------------------\n",
      "\u001b[33mOnboarding_Personal_Information_Agent\u001b[0m (to customer_proxy_agent):\n",
      "\n",
      "Thank you! Now, could you please provide me with your location?\n",
      "\n",
      "--------------------------------------------------------------------------------\n",
      "\u001b[33mcustomer_proxy_agent\u001b[0m (to Onboarding_Personal_Information_Agent):\n",
      "\n",
      "Ilyaas\n",
      "\n",
      "--------------------------------------------------------------------------------\n",
      "\u001b[33mOnboarding_Personal_Information_Agent\u001b[0m (to customer_proxy_agent):\n",
      "\n",
      "Thank you, Ilyaas! Now, could you please provide me with your location?\n",
      "\n",
      "--------------------------------------------------------------------------------\n",
      "\u001b[33mcustomer_proxy_agent\u001b[0m (to Onboarding_Personal_Information_Agent):\n",
      "\n",
      "Auston,Texas\n",
      "\n",
      "--------------------------------------------------------------------------------\n",
      "\u001b[33mOnboarding_Personal_Information_Agent\u001b[0m (to customer_proxy_agent):\n",
      "\n",
      "Thank you, Ilyaas from Auston, Texas! Please reply with TERMINATE to move on to describing your issue.\n",
      "\n",
      "--------------------------------------------------------------------------------\n",
      "\u001b[33mcustomer_proxy_agent\u001b[0m (to Onboarding_Personal_Information_Agent):\n",
      "\n",
      "TERMINATE\n",
      "\n",
      "--------------------------------------------------------------------------------\n",
      "\u001b[31m\n",
      ">>>>>>>> TERMINATING RUN (5fd06d76-0b02-4165-9834-f8dbd2f4fc81): Termination message condition on agent 'Onboarding_Personal_Information_Agent' met\u001b[0m\n",
      "\u001b[34m\n",
      "********************************************************************************\u001b[0m\n",
      "\u001b[34mStarting a new chat....\u001b[0m\n",
      "\u001b[34m\n",
      "********************************************************************************\u001b[0m\n",
      "\u001b[33mcustomer_proxy_agent\u001b[0m (to Customer_Engagement_Agent):\n",
      "\n",
      "While we're waiting for a human agent to take over and help you solve your issue, can you tell me more about how you use our products or some topics interesting for you?\n",
      "Context: \n",
      "```json\n",
      "{\n",
      "  \"name\": \"Ilyaas\",\n",
      "  \"location\": \"Auston, Texas\"\n",
      "}\n",
      "```\n",
      "\n",
      "--------------------------------------------------------------------------------\n",
      "\u001b[33mCustomer_Engagement_Agent\u001b[0m (to customer_proxy_agent):\n",
      "\n",
      "Hi Ilyaas! While we wait for a human agent, let’s chat about some interesting topics! \n",
      "\n",
      "Since you’re from Austin, Texas, how about we dive into some fun Austin-related news or local happenings? Maybe you're into tech innovations, arts and culture, or even some mouth-watering food trends! \n",
      "\n",
      "Do you have any particular interests or topics that excite you? Just let me know, and I’ll serve up some fun facts, stories, or even a joke or two related to your interests! 🌟\n",
      "\n",
      "--------------------------------------------------------------------------------\n",
      "\u001b[33mcustomer_proxy_agent\u001b[0m (to Customer_Engagement_Agent):\n",
      "\n",
      "Apple, monthly EMI issues \n",
      "\n",
      "--------------------------------------------------------------------------------\n",
      "\u001b[33mCustomer_Engagement_Agent\u001b[0m (to customer_proxy_agent):\n",
      "\n",
      "Got it, Ilyaas! It sounds like you're interested in Apple, particularly regarding their monthly EMI (Equated Monthly Installment) options. \n",
      "\n",
      "Did you know that Apple has been expanding its payment options to make their products more accessible? They now offer financing options through various retailers and even their own services, like the Apple Card! With the Apple Card, you can buy products and pay for them over time with lower interest rates, and sometimes even cash back! \n",
      "\n",
      "Here's a fun fact: The original Apple computer was released in 1976 and was priced at $666.66! Steve Wozniak, one of the co-founders, loved repeating digits. That’s a quirky piece of tech history for you! \n",
      "\n",
      "If you have any specific questions about Apple or monthly EMI options, feel free to ask! Or if you'd like something more light-hearted, I can share a tech joke too! What would you like? 😄\n",
      "\n",
      "--------------------------------------------------------------------------------\n",
      "\u001b[31m\n",
      ">>>>>>>> TERMINATING RUN (fb15a9bf-e943-450b-8363-29114d9f989e): Maximum turns (2) reached\u001b[0m\n",
      "\u001b[34m\n",
      "********************************************************************************\u001b[0m\n",
      "\u001b[34mStarting a new chat....\u001b[0m\n",
      "\u001b[34m\n",
      "********************************************************************************\u001b[0m\n",
      "\u001b[33mcustomer_proxy_agent\u001b[0m (to Customer_Engagement_Agent):\n",
      "\n",
      "While we're waiting for a human agent to take over and help you solve your issue, can you tell me more about how you use our products or some topics interesting for you?\n",
      "Context: \n",
      "```json\n",
      "{\n",
      "  \"name\": \"Ilyaas\",\n",
      "  \"location\": \"Auston, Texas\"\n",
      "}\n",
      "```\n",
      "Ilyaas is interested in Apple and its monthly EMI options. The conversation touched on Apple's financing solutions, like the Apple Card, offering lower interest rates and cash back. A fun fact about the original Apple computer's price being $666.66 was shared, along with an offer for more information or a tech joke.\n",
      "\n",
      "--------------------------------------------------------------------------------\n",
      "\u001b[33mCustomer_Engagement_Agent\u001b[0m (to customer_proxy_agent):\n",
      "\n",
      "Hi Ilyaas! Thanks for sharing your interests. It sounds like you’re quite the Apple enthusiast! Did you know that the first Apple computer, the Apple I, not only had a quirky price of $666.66 but was also sold just as a motherboard? Talk about an interesting start!\n",
      "\n",
      "Since you're curious about financing and EMI options, you may want to check out the benefits of using the Apple Card, which often offers a cash back percentage on purchases made from Apple as well as lower interest rates compared to many traditional loans.\n",
      "\n",
      "Now, how about a little tech humor? Here’s a joke for you:\n",
      "\n",
      "Why did the computer go to therapy?\n",
      "\n",
      "Because it had a hard drive! \n",
      "\n",
      "If you’d like more information about Apple’s financing options or want to dive deeper into anything tech-related, just let me know! I'm here to keep you entertained and informed! \n",
      "\n",
      "TERMINATE\n",
      "\n",
      "--------------------------------------------------------------------------------\n",
      "\u001b[33mcustomer_proxy_agent\u001b[0m (to Customer_Engagement_Agent):\n",
      "\n",
      "I am reading about Dust storms lately\n",
      "\n",
      "--------------------------------------------------------------------------------\n",
      "\u001b[33mCustomer_Engagement_Agent\u001b[0m (to customer_proxy_agent):\n",
      "\n",
      "That’s an interesting topic, Ilyaas! Dust storms are fascinating and can be both awe-inspiring and a bit scary! Did you know that the largest dust storm ever recorded happened in 1934 during the Dust Bowl in the United States? It blew across the plains and reached New York City, carrying dust all the way from the midwestern states!\n",
      "\n",
      "Here's a fun fact: Dust storms can actually have a positive impact! They help to fertilize ocean waters with iron, which stimulates the growth of phytoplankton. Phytoplankton are crucial for our planet as they absorb carbon dioxide and produce a significant portion of the Earth's oxygen.\n",
      "\n",
      "And just for fun, here's a light-hearted joke related to weather:\n",
      "\n",
      "What did one dust storm say to another?\n",
      "\n",
      "“I’m blown away by your skills!”\n",
      "\n",
      "If you’d like to know more about dust storms or their effects, feel free to ask! I’m here to provide you with engaging and useful information! \n",
      "\n",
      "TERMINATE\n",
      "\n",
      "--------------------------------------------------------------------------------\n",
      "\u001b[31m\n",
      ">>>>>>>> TERMINATING RUN (2ec950a1-7ba0-4748-b04a-94312fa7aaf5): Maximum turns (2) reached\u001b[0m\n"
     ]
    }
   ],
   "source": [
    "chat_results = initiate_chats(chats)"
   ]
  },
  {
   "cell_type": "code",
   "execution_count": 14,
   "id": "fc875363",
   "metadata": {},
   "outputs": [
    {
     "name": "stdout",
     "output_type": "stream",
     "text": [
      "'```json\\n{\\n  \"name\": \"Ilyaas\",\\n  \"location\": \"Auston, Texas\"\\n}\\n```'\n",
      "('Ilyaas is interested in Apple and its monthly EMI options. The conversation '\n",
      " \"touched on Apple's financing solutions, like the Apple Card, offering lower \"\n",
      " \"interest rates and cash back. A fun fact about the original Apple computer's \"\n",
      " 'price being $666.66 was shared, along with an offer for more information or '\n",
      " 'a tech joke.')\n",
      "('Ilyaas is interested in dust storms and has been reading about them. The '\n",
      " 'conversation included fascinating facts about dust storms, such as their '\n",
      " 'occurrence during the Dust Bowl and their impact on ocean fertilization. A '\n",
      " 'light-hearted joke related to weather was shared for entertainment.')\n"
     ]
    }
   ],
   "source": [
    "import pprint\n",
    "\n",
    "for chat_result in chat_results:\n",
    "    #pprint.pprint(chat_result.chat_history) # We could also get the whole chat history with this command\n",
    "    pprint.pprint(chat_result.summary)"
   ]
  },
  {
   "cell_type": "markdown",
   "id": "084c365b",
   "metadata": {},
   "source": [
    "The human can thus quickly learn about our customer, their name, location and issue and immediately get started on solving the issue."
   ]
  },
  {
   "cell_type": "markdown",
   "id": "7b0e55f7",
   "metadata": {},
   "source": [
    "## What is this for?\n",
    "\n",
    "This example shows you how you can integrate LLMs into an app in order to accomplish complex interactions with humans and gather specific information through natural communication. This is very powerful and is not something that was easy to do it before having LLMs. By having agents focused on a single task, we're able to ensure that the LLM won't diverge and remain focused on a simple task, greatly increasing chances that it accurately accomplishes it."
   ]
  }
 ],
 "metadata": {
  "kernelspec": {
   "display_name": "Python 3",
   "language": "python",
   "name": "python3"
  },
  "language_info": {
   "codemirror_mode": {
    "name": "ipython",
    "version": 3
   },
   "file_extension": ".py",
   "mimetype": "text/x-python",
   "name": "python",
   "nbconvert_exporter": "python",
   "pygments_lexer": "ipython3",
   "version": "3.12.0"
  }
 },
 "nbformat": 4,
 "nbformat_minor": 5
}
